{
 "cells": [
  {
   "cell_type": "code",
   "execution_count": 37,
   "id": "43b8345e",
   "metadata": {},
   "outputs": [
    {
     "ename": "OperationalError",
     "evalue": "table stocks already exists",
     "output_type": "error",
     "traceback": [
      "\u001b[0;31m---------------------------------------------------------------------------\u001b[0m",
      "\u001b[0;31mOperationalError\u001b[0m                          Traceback (most recent call last)",
      "Cell \u001b[0;32mIn[37], line 5\u001b[0m\n\u001b[1;32m      3\u001b[0m c \u001b[38;5;241m=\u001b[39m conn\u001b[38;5;241m.\u001b[39mcursor()\n\u001b[1;32m      4\u001b[0m \u001b[38;5;66;03m# Create table\u001b[39;00m\n\u001b[0;32m----> 5\u001b[0m \u001b[43mc\u001b[49m\u001b[38;5;241;43m.\u001b[39;49m\u001b[43mexecute\u001b[49m\u001b[43m(\u001b[49m\u001b[38;5;124;43m\"\"\"\u001b[39;49m\u001b[38;5;124;43mCREATE TABLE stocks\u001b[39;49m\n\u001b[1;32m      6\u001b[0m \u001b[38;5;124;43m    (date text, trans text, symbol text, qty real, price real)\u001b[39;49m\u001b[38;5;124;43m\"\"\"\u001b[39;49m\u001b[43m)\u001b[49m\n\u001b[1;32m      7\u001b[0m \u001b[38;5;66;03m# Insert a row of data\u001b[39;00m\n\u001b[1;32m      8\u001b[0m c\u001b[38;5;241m.\u001b[39mexecute(\u001b[38;5;124m\"\"\"\u001b[39m\u001b[38;5;124mINSERT INTO stocks\u001b[39m\n\u001b[1;32m      9\u001b[0m \u001b[38;5;124m    VALUES (\u001b[39m\u001b[38;5;124m'\u001b[39m\u001b[38;5;124m2006-01-05\u001b[39m\u001b[38;5;124m'\u001b[39m\u001b[38;5;124m,\u001b[39m\u001b[38;5;124m'\u001b[39m\u001b[38;5;124mBUY\u001b[39m\u001b[38;5;124m'\u001b[39m\u001b[38;5;124m,\u001b[39m\u001b[38;5;124m'\u001b[39m\u001b[38;5;124mRHAT\u001b[39m\u001b[38;5;124m'\u001b[39m\u001b[38;5;124m,100,35.14)\u001b[39m\u001b[38;5;124m\"\"\"\u001b[39m)\n",
      "\u001b[0;31mOperationalError\u001b[0m: table stocks already exists"
     ]
    }
   ],
   "source": [
    "import sqlite3\n",
    "conn = sqlite3.connect('example_2.db')\n",
    "c = conn.cursor()\n",
    "# Create table\n",
    "c.execute(\"\"\"CREATE TABLE stocks\n",
    "    (date text, trans text, symbol text, qty real, price real)\"\"\")\n",
    "# Insert a row of data\n",
    "c.execute(\"\"\"INSERT INTO stocks\n",
    "    VALUES ('2006-01-05','BUY','RHAT',100,35.14)\"\"\")\n",
    "# Save (commit) the changes and then close the connection\n",
    "conn.commit()\n",
    "conn.close()"
   ]
  },
  {
   "cell_type": "code",
   "execution_count": 36,
   "id": "99b78db8",
   "metadata": {},
   "outputs": [
    {
     "name": "stdout",
     "output_type": "stream",
     "text": [
      "(SELECT price FROM stocks WHERE trans='BUY')\n",
      "<sqlite3.Cursor object at 0x7fdbd1592a40>\n"
     ]
    }
   ],
   "source": [
    "import sqlite3\n",
    "conn = sqlite3.connect('example_2.db')\n",
    "c = conn.cursor()\n",
    "# Create table\n",
    "a = input()\n",
    "\n",
    "c.execute(f\"\"\"INSERT INTO stocks\n",
    "    VALUES ('2006-01-05','BUY','RHAT',100,{a})\"\"\")\n",
    "# Save (commit) the changes and then close the connection\n",
    "curs = c.execute(\"SELECT * FROM stocks\")\n",
    "res = curs.fetchall()\n",
    "print(res)\n",
    "#try (SELECT price FROM stocks WHERE trans='BUY')\n",
    "conn.commit()\n",
    "conn.close()"
   ]
  },
  {
   "cell_type": "code",
   "execution_count": 4,
   "id": "af406650",
   "metadata": {},
   "outputs": [
    {
     "name": "stdout",
     "output_type": "stream",
     "text": [
      "Requirement already satisfied: sqlalchemy in /home/anna/Documents/PhDWork/Teaching/ex-env/lib/python3.8/site-packages (2.0.1)\n",
      "Requirement already satisfied: greenlet!=0.4.17; platform_machine == \"aarch64\" or (platform_machine == \"ppc64le\" or (platform_machine == \"x86_64\" or (platform_machine == \"amd64\" or (platform_machine == \"AMD64\" or (platform_machine == \"win32\" or platform_machine == \"WIN32\"))))) in /home/anna/Documents/PhDWork/Teaching/ex-env/lib/python3.8/site-packages (from sqlalchemy) (2.0.2)\n",
      "Requirement already satisfied: typing-extensions>=4.2.0 in /home/anna/Documents/PhDWork/Teaching/ex-env/lib/python3.8/site-packages (from sqlalchemy) (4.4.0)\n"
     ]
    }
   ],
   "source": [
    "!pip install sqlalchemy"
   ]
  },
  {
   "cell_type": "code",
   "execution_count": 24,
   "id": "d089bd20",
   "metadata": {},
   "outputs": [
    {
     "name": "stderr",
     "output_type": "stream",
     "text": [
      "/tmp/ipykernel_271695/2729954081.py:5: MovedIn20Warning: The ``declarative_base()`` function is now available as sqlalchemy.orm.declarative_base(). (deprecated since: 2.0) (Background on SQLAlchemy 2.0 at: https://sqlalche.me/e/b8d9)\n",
      "  Base = declarative_base()\n"
     ]
    }
   ],
   "source": [
    "from sqlalchemy import Column,ForeignKey,Integer,String\n",
    "from sqlalchemy.ext.declarative import declarative_base\n",
    "from sqlalchemy.orm import relationship\n",
    "from sqlalchemy import create_engine,PrimaryKeyConstraint\n",
    "Base = declarative_base()\n",
    "class Actor(Base):\n",
    "  __tablename__ = 'actor'\n",
    "  # Each column is also a python instance attribute\n",
    "  actor_id = Column(Integer, primary_key=True)\n",
    "  name     = Column(String(250), nullable=False)\n",
    "class Film(Base):\n",
    "  __tablename__ = 'film'\n",
    "  film_id = Column(Integer, primary_key=True)\n",
    "  title   = Column(String(250), nullable=False)\n",
    "  genre  = Column(String(250))"
   ]
  },
  {
   "cell_type": "code",
   "execution_count": 25,
   "id": "1c711c48",
   "metadata": {},
   "outputs": [],
   "source": [
    "class Actor_film_mapping(Base):\n",
    "  __tablename__ = 'actor_film_mapping'\n",
    "  actor = relationship(Actor)\n",
    "  film  = relationship(Film)\n",
    "  actor_id = Column(Integer, ForeignKey('actor.actor_id'))\n",
    "  film_id  = Column(Integer, ForeignKey('film.film_id'))\n",
    "  __table_args__ = (\n",
    "    PrimaryKeyConstraint('actor_id', 'film_id'),\n",
    "  )\n",
    "# Create an engine that stores data in the local\n",
    "# directory's example.db file.\n",
    "engine = create_engine('sqlite:///example_3.db')\n",
    "# Create all tables in the engine. This is equivalent\n",
    "# to \"Create Table\" statements in raw SQL.\n",
    "Base.metadata.create_all(engine)"
   ]
  },
  {
   "cell_type": "code",
   "execution_count": 26,
   "id": "997bab2d",
   "metadata": {},
   "outputs": [],
   "source": [
    "from sqlalchemy import create_engine\n",
    "from sqlalchemy.orm import sessionmaker\n",
    "#from base import Actor, Film, Actor_film_mapping, Base\n",
    "engine = create_engine('sqlite:///example_3.db')\n",
    "# Bind the engine to the metadata of the Base\n",
    "# class from base.py\n",
    "Base.metadata.bind = engine\n",
    "DBSession = sessionmaker(bind=engine)\n",
    "session = DBSession()\n",
    "# Insert an actor in the actor table\n",
    "actor1 = Actor(name='Smith, John')\n",
    "session.add(actor1)\n",
    "session.commit()"
   ]
  },
  {
   "cell_type": "code",
   "execution_count": 28,
   "id": "b9e9186d",
   "metadata": {},
   "outputs": [],
   "source": [
    "from sqlalchemy import create_engine\n",
    "from sqlalchemy.orm import sessionmaker\n",
    "#from base import Actor, Film, Actor_film_mapping, Base\n",
    "engine = create_engine('sqlite:///example_3.db')\n",
    "# Bind the engine to the metadata of the Base\n",
    "# class from base.py\n",
    "Base.metadata.bind = engine\n",
    "DBSession = sessionmaker(bind=engine)\n",
    "session = DBSession()\n",
    "# Insert an actor in the actor table\n",
    "film1 = Film(title='Hello world', genre='documentary')\n",
    "session.add(film1)\n",
    "session.commit()"
   ]
  },
  {
   "cell_type": "code",
   "execution_count": 29,
   "id": "9cdcdff3",
   "metadata": {},
   "outputs": [],
   "source": [
    "from sqlalchemy import create_engine\n",
    "from sqlalchemy.orm import sessionmaker\n",
    "#from base import Actor, Film, Actor_film_mapping, Base\n",
    "engine = create_engine('sqlite:///example_3.db')\n",
    "# Bind the engine to the metadata of the Base\n",
    "# class from base.py\n",
    "Base.metadata.bind = engine\n",
    "DBSession = sessionmaker(bind=engine)\n",
    "session = DBSession()\n",
    "# Insert an actor in the actor table\n",
    "rel = Actor_film_mapping(actor_id=1, film_id=1)\n",
    "session.add(rel)\n",
    "session.commit()"
   ]
  },
  {
   "cell_type": "code",
   "execution_count": 30,
   "id": "c98a6f01",
   "metadata": {},
   "outputs": [
    {
     "name": "stdout",
     "output_type": "stream",
     "text": [
      "Smith, John\n"
     ]
    },
    {
     "data": {
      "text/plain": [
       "<__main__.Actor_film_mapping at 0x7fdbd158c940>"
      ]
     },
     "execution_count": 30,
     "metadata": {},
     "output_type": "execute_result"
    }
   ],
   "source": [
    "#from base import Actor, Film, Actor_film_mapping, Base\n",
    "from sqlalchemy.orm import sessionmaker\n",
    "from sqlalchemy import create_engine\n",
    "engine = create_engine('sqlite:///example_3.db')\n",
    "Base.metadata.bind = engine\n",
    "DBSession = sessionmaker(bind = engine)\n",
    "session = DBSession()\n",
    "actor1 = session.query(Actor).first()\n",
    "print(actor1.name) #'Smith, John'\n",
    "session.query(Actor_film_mapping).filter(Actor_film_mapping.actor_id == actor1.actor_id).all()[0]"
   ]
  },
  {
   "cell_type": "code",
   "execution_count": 16,
   "id": "12072ae8",
   "metadata": {},
   "outputs": [],
   "source": [
    "obj = session.query(Actor_film_mapping).filter(Actor_film_mapping.actor_id == actor1.actor_id).all()[0]"
   ]
  },
  {
   "cell_type": "code",
   "execution_count": 17,
   "id": "ed9fd71e",
   "metadata": {},
   "outputs": [
    {
     "data": {
      "text/plain": [
       "'Hello world'"
      ]
     },
     "execution_count": 17,
     "metadata": {},
     "output_type": "execute_result"
    }
   ],
   "source": [
    "obj.film.title"
   ]
  },
  {
   "cell_type": "code",
   "execution_count": null,
   "id": "342ecd44",
   "metadata": {},
   "outputs": [],
   "source": []
  }
 ],
 "metadata": {
  "kernelspec": {
   "display_name": "Python 3 (ipykernel)",
   "language": "python",
   "name": "python3"
  },
  "language_info": {
   "codemirror_mode": {
    "name": "ipython",
    "version": 3
   },
   "file_extension": ".py",
   "mimetype": "text/x-python",
   "name": "python",
   "nbconvert_exporter": "python",
   "pygments_lexer": "ipython3",
   "version": "3.8.10"
  }
 },
 "nbformat": 4,
 "nbformat_minor": 5
}
